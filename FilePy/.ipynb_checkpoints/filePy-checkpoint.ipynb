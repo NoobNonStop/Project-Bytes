{
 "cells": [
  {
   "cell_type": "markdown",
   "metadata": {},
   "source": [
    "# The Path() function"
   ]
  },
  {
   "cell_type": "code",
   "execution_count": 4,
   "metadata": {},
   "outputs": [
    {
     "data": {
      "text/plain": [
       "WindowsPath('Spam/shitsters/wonder/happiness/success')"
      ]
     },
     "execution_count": 4,
     "metadata": {},
     "output_type": "execute_result"
    }
   ],
   "source": [
    "from pathlib import Path\n",
    "Path(\"Spam\", \"shitsters\", \"wonder\", \"happiness\", \"success\")"
   ]
  },
  {
   "cell_type": "code",
   "execution_count": 5,
   "metadata": {},
   "outputs": [],
   "source": [
    "x = Path(\"Spam\", \"shitsters\", \"wonder\", \"happiness\", \"success\") "
   ]
  },
  {
   "cell_type": "code",
   "execution_count": 6,
   "metadata": {},
   "outputs": [
    {
     "name": "stdout",
     "output_type": "stream",
     "text": [
      "Spam\\shitsters\\wonder\\happiness\\success\n"
     ]
    }
   ],
   "source": [
    "print(x)"
   ]
  },
  {
   "cell_type": "code",
   "execution_count": 7,
   "metadata": {},
   "outputs": [],
   "source": [
    "x = Path"
   ]
  },
  {
   "cell_type": "code",
   "execution_count": 8,
   "metadata": {},
   "outputs": [
    {
     "data": {
      "text/plain": [
       "WindowsPath('.')"
      ]
     },
     "execution_count": 8,
     "metadata": {},
     "output_type": "execute_result"
    }
   ],
   "source": [
    "x()"
   ]
  },
  {
   "cell_type": "code",
   "execution_count": 9,
   "metadata": {},
   "outputs": [
    {
     "name": "stdout",
     "output_type": "stream",
     "text": [
      "<class 'pathlib.Path'>\n"
     ]
    }
   ],
   "source": [
    "print(x)"
   ]
  },
  {
   "cell_type": "markdown",
   "metadata": {},
   "source": [
    "The Path function is a method of the class pathlib, which is a module in Python."
   ]
  },
  {
   "cell_type": "code",
   "execution_count": 13,
   "metadata": {},
   "outputs": [
    {
     "data": {
      "text/plain": [
       "'win32'"
      ]
     },
     "execution_count": 13,
     "metadata": {},
     "output_type": "execute_result"
    }
   ],
   "source": [
    "import sys\n",
    "sys.platform # Returns the platform of the PC i.e. Windows/Mac etc."
   ]
  },
  {
   "cell_type": "markdown",
   "metadata": {},
   "source": [
    "# The Current Working Directory"
   ]
  },
  {
   "cell_type": "code",
   "execution_count": 15,
   "metadata": {},
   "outputs": [
    {
     "data": {
      "text/plain": [
       "WindowsPath('C:/Users/Siddhant/Desktop/Sid/Games/NFS/Project_BitSid/autoPy')"
      ]
     },
     "execution_count": 15,
     "metadata": {},
     "output_type": "execute_result"
    }
   ],
   "source": [
    "from pathlib import Path\n",
    "import os\n",
    "Path.cwd()"
   ]
  },
  {
   "cell_type": "code",
   "execution_count": 16,
   "metadata": {},
   "outputs": [],
   "source": [
    "os.chdir('C:\\\\Windows\\\\System32')"
   ]
  },
  {
   "cell_type": "code",
   "execution_count": 17,
   "metadata": {},
   "outputs": [
    {
     "data": {
      "text/plain": [
       "WindowsPath('C:/Windows/System32')"
      ]
     },
     "execution_count": 17,
     "metadata": {},
     "output_type": "execute_result"
    }
   ],
   "source": [
    "Path.cwd()"
   ]
  },
  {
   "cell_type": "markdown",
   "metadata": {},
   "source": [
    "# The Home Directory"
   ]
  },
  {
   "cell_type": "code",
   "execution_count": 18,
   "metadata": {},
   "outputs": [
    {
     "data": {
      "text/plain": [
       "WindowsPath('C:/Users/Siddhant')"
      ]
     },
     "execution_count": 18,
     "metadata": {},
     "output_type": "execute_result"
    }
   ],
   "source": [
    "Path.home()"
   ]
  },
  {
   "cell_type": "code",
   "execution_count": 23,
   "metadata": {},
   "outputs": [
    {
     "name": "stdout",
     "output_type": "stream",
     "text": [
      "C:\\Users\\Siddhant\n"
     ]
    }
   ],
   "source": [
    "x = Path.home()\n",
    "print(x)"
   ]
  },
  {
   "cell_type": "markdown",
   "metadata": {},
   "source": [
    "## Absolute vs Relative Paths"
   ]
  },
  {
   "cell_type": "markdown",
   "metadata": {},
   "source": [
    "Absolute Path: Begins with C:\\\\ or the Root folder\n"
   ]
  },
  {
   "cell_type": "markdown",
   "metadata": {},
   "source": [
    "Relative Path: Relative to the current working directory of the program"
   ]
  },
  {
   "cell_type": "markdown",
   "metadata": {},
   "source": [
    "## Creating New folders using os.makedirs()"
   ]
  },
  {
   "cell_type": "markdown",
   "metadata": {},
   "source": [
    "os.makedirs() ensures that the entire specified path exists, creating files if required"
   ]
  },
  {
   "cell_type": "code",
   "execution_count": 3,
   "metadata": {},
   "outputs": [
    {
     "ename": "FileExistsError",
     "evalue": "[WinError 183] Cannot create a file when that file already exists: 'C:\\\\Users\\\\Siddhant'",
     "output_type": "error",
     "traceback": [
      "\u001b[1;31m---------------------------------------------------------------------------\u001b[0m",
      "\u001b[1;31mFileExistsError\u001b[0m                           Traceback (most recent call last)",
      "\u001b[1;32m<ipython-input-3-fd12357382b5>\u001b[0m in \u001b[0;36m<module>\u001b[1;34m\u001b[0m\n\u001b[0;32m      1\u001b[0m \u001b[1;32mimport\u001b[0m \u001b[0mos\u001b[0m\u001b[1;33m\u001b[0m\u001b[1;33m\u001b[0m\u001b[0m\n\u001b[1;32m----> 2\u001b[1;33m \u001b[0mos\u001b[0m\u001b[1;33m.\u001b[0m\u001b[0mmakedirs\u001b[0m\u001b[1;33m(\u001b[0m\u001b[1;34m'C:\\\\Users\\\\Siddhant'\u001b[0m\u001b[1;33m)\u001b[0m\u001b[1;33m\u001b[0m\u001b[1;33m\u001b[0m\u001b[0m\n\u001b[0m\u001b[0;32m      3\u001b[0m \u001b[1;31m#returns error if file already exists\u001b[0m\u001b[1;33m\u001b[0m\u001b[1;33m\u001b[0m\u001b[1;33m\u001b[0m\u001b[0m\n",
      "\u001b[1;32m~\\Anaconda3\\lib\\os.py\u001b[0m in \u001b[0;36mmakedirs\u001b[1;34m(name, mode, exist_ok)\u001b[0m\n\u001b[0;32m    219\u001b[0m             \u001b[1;32mreturn\u001b[0m\u001b[1;33m\u001b[0m\u001b[1;33m\u001b[0m\u001b[0m\n\u001b[0;32m    220\u001b[0m     \u001b[1;32mtry\u001b[0m\u001b[1;33m:\u001b[0m\u001b[1;33m\u001b[0m\u001b[1;33m\u001b[0m\u001b[0m\n\u001b[1;32m--> 221\u001b[1;33m         \u001b[0mmkdir\u001b[0m\u001b[1;33m(\u001b[0m\u001b[0mname\u001b[0m\u001b[1;33m,\u001b[0m \u001b[0mmode\u001b[0m\u001b[1;33m)\u001b[0m\u001b[1;33m\u001b[0m\u001b[1;33m\u001b[0m\u001b[0m\n\u001b[0m\u001b[0;32m    222\u001b[0m     \u001b[1;32mexcept\u001b[0m \u001b[0mOSError\u001b[0m\u001b[1;33m:\u001b[0m\u001b[1;33m\u001b[0m\u001b[1;33m\u001b[0m\u001b[0m\n\u001b[0;32m    223\u001b[0m         \u001b[1;31m# Cannot rely on checking for EEXIST, since the operating system\u001b[0m\u001b[1;33m\u001b[0m\u001b[1;33m\u001b[0m\u001b[1;33m\u001b[0m\u001b[0m\n",
      "\u001b[1;31mFileExistsError\u001b[0m: [WinError 183] Cannot create a file when that file already exists: 'C:\\\\Users\\\\Siddhant'"
     ]
    }
   ],
   "source": [
    "import os\n",
    "os.makedirs('C:\\\\Users\\\\Siddhant')\n",
    "#returns error if file already exists"
   ]
  },
  {
   "cell_type": "code",
   "execution_count": 6,
   "metadata": {},
   "outputs": [
    {
     "ename": "PermissionError",
     "evalue": "[WinError 5] Access is denied: 'C:\\\\Users\\\\Sid'",
     "output_type": "error",
     "traceback": [
      "\u001b[1;31m---------------------------------------------------------------------------\u001b[0m",
      "\u001b[1;31mPermissionError\u001b[0m                           Traceback (most recent call last)",
      "\u001b[1;32m<ipython-input-6-0cf0810c623b>\u001b[0m in \u001b[0;36m<module>\u001b[1;34m\u001b[0m\n\u001b[0;32m      1\u001b[0m \u001b[1;32mfrom\u001b[0m \u001b[0mpathlib\u001b[0m \u001b[1;32mimport\u001b[0m \u001b[0mPath\u001b[0m\u001b[1;33m\u001b[0m\u001b[1;33m\u001b[0m\u001b[0m\n\u001b[1;32m----> 2\u001b[1;33m \u001b[0mPath\u001b[0m\u001b[1;33m(\u001b[0m\u001b[1;34mr'C:\\\\Users\\\\Sid'\u001b[0m\u001b[1;33m)\u001b[0m\u001b[1;33m.\u001b[0m\u001b[0mmkdir\u001b[0m\u001b[1;33m(\u001b[0m\u001b[1;33m)\u001b[0m\u001b[1;33m\u001b[0m\u001b[1;33m\u001b[0m\u001b[0m\n\u001b[0m\u001b[0;32m      3\u001b[0m \u001b[1;31m# returns error if fiiles already exist\u001b[0m\u001b[1;33m\u001b[0m\u001b[1;33m\u001b[0m\u001b[1;33m\u001b[0m\u001b[0m\n\u001b[0;32m      4\u001b[0m \u001b[1;31m#difference between the pathlib method and the os method is that the os.makedirs() function makes all files at once, whereas\u001b[0m\u001b[1;33m\u001b[0m\u001b[1;33m\u001b[0m\u001b[1;33m\u001b[0m\u001b[0m\n\u001b[0;32m      5\u001b[0m \u001b[1;31m#Path().mkdirs() makes files one at a time\u001b[0m\u001b[1;33m\u001b[0m\u001b[1;33m\u001b[0m\u001b[1;33m\u001b[0m\u001b[0m\n",
      "\u001b[1;32m~\\Anaconda3\\lib\\pathlib.py\u001b[0m in \u001b[0;36mmkdir\u001b[1;34m(self, mode, parents, exist_ok)\u001b[0m\n\u001b[0;32m   1256\u001b[0m             \u001b[0mself\u001b[0m\u001b[1;33m.\u001b[0m\u001b[0m_raise_closed\u001b[0m\u001b[1;33m(\u001b[0m\u001b[1;33m)\u001b[0m\u001b[1;33m\u001b[0m\u001b[1;33m\u001b[0m\u001b[0m\n\u001b[0;32m   1257\u001b[0m         \u001b[1;32mtry\u001b[0m\u001b[1;33m:\u001b[0m\u001b[1;33m\u001b[0m\u001b[1;33m\u001b[0m\u001b[0m\n\u001b[1;32m-> 1258\u001b[1;33m             \u001b[0mself\u001b[0m\u001b[1;33m.\u001b[0m\u001b[0m_accessor\u001b[0m\u001b[1;33m.\u001b[0m\u001b[0mmkdir\u001b[0m\u001b[1;33m(\u001b[0m\u001b[0mself\u001b[0m\u001b[1;33m,\u001b[0m \u001b[0mmode\u001b[0m\u001b[1;33m)\u001b[0m\u001b[1;33m\u001b[0m\u001b[1;33m\u001b[0m\u001b[0m\n\u001b[0m\u001b[0;32m   1259\u001b[0m         \u001b[1;32mexcept\u001b[0m \u001b[0mFileNotFoundError\u001b[0m\u001b[1;33m:\u001b[0m\u001b[1;33m\u001b[0m\u001b[1;33m\u001b[0m\u001b[0m\n\u001b[0;32m   1260\u001b[0m             \u001b[1;32mif\u001b[0m \u001b[1;32mnot\u001b[0m \u001b[0mparents\u001b[0m \u001b[1;32mor\u001b[0m \u001b[0mself\u001b[0m\u001b[1;33m.\u001b[0m\u001b[0mparent\u001b[0m \u001b[1;33m==\u001b[0m \u001b[0mself\u001b[0m\u001b[1;33m:\u001b[0m\u001b[1;33m\u001b[0m\u001b[1;33m\u001b[0m\u001b[0m\n",
      "\u001b[1;31mPermissionError\u001b[0m: [WinError 5] Access is denied: 'C:\\\\Users\\\\Sid'"
     ]
    }
   ],
   "source": [
    "from pathlib import Path\n",
    "Path(r'C:\\\\Users\\\\Sid').mkdir()\n",
    "# returns error if fiiles already exist\n",
    "#difference between the pathlib method and the os method is that the os.makedirs() function makes all files at once, whereas\n",
    "#Path().mkdirs() makes files one directory at a time"
   ]
  },
  {
   "cell_type": "markdown",
   "metadata": {},
   "source": [
    "## Handling Absolute and Relative Paths"
   ]
  },
  {
   "cell_type": "markdown",
   "metadata": {},
   "source": [
    "To find out if a Path object is absolute, call is_absolute on it"
   ]
  },
  {
   "cell_type": "code",
   "execution_count": 18,
   "metadata": {},
   "outputs": [
    {
     "data": {
      "text/plain": [
       "True"
      ]
     },
     "execution_count": 18,
     "metadata": {},
     "output_type": "execute_result"
    }
   ],
   "source": [
    "from pathlib import Path\n",
    "Path.cwd().is_absolute()"
   ]
  },
  {
   "cell_type": "code",
   "execution_count": 20,
   "metadata": {},
   "outputs": [
    {
     "data": {
      "text/plain": [
       "'C:\\\\Users\\\\Siddhant\\\\Desktop\\\\Sid\\\\Games\\\\NFS\\\\Project_BitSid\\\\autoPy\\\\FilePy'"
      ]
     },
     "execution_count": 20,
     "metadata": {},
     "output_type": "execute_result"
    }
   ],
   "source": [
    "#Another way to do the same\n",
    "os.path.abspath(Path.cwd())"
   ]
  },
  {
   "cell_type": "code",
   "execution_count": 21,
   "metadata": {},
   "outputs": [
    {
     "data": {
      "text/plain": [
       "True"
      ]
     },
     "execution_count": 21,
     "metadata": {},
     "output_type": "execute_result"
    }
   ],
   "source": [
    "os.path.isabs(Path.cwd())"
   ]
  },
  {
   "cell_type": "code",
   "execution_count": 22,
   "metadata": {},
   "outputs": [
    {
     "data": {
      "text/plain": [
       "'C:\\\\Users\\\\Siddhant\\\\Desktop\\\\Sid\\\\Games\\\\NFS\\\\Project_BitSid\\\\autoPy\\\\FilePy\\\\Siddhant\\\\Desktop\\\\Sid\\\\Games'"
      ]
     },
     "execution_count": 22,
     "metadata": {},
     "output_type": "execute_result"
    }
   ],
   "source": [
    "p = \"Siddhant\\\\Desktop\\\\Sid\\\\Games\"\n",
    "os.path.abspath(p)"
   ]
  },
  {
   "cell_type": "code",
   "execution_count": 33,
   "metadata": {},
   "outputs": [
    {
     "data": {
      "text/plain": [
       "'Siddhant\\\\Desktop'"
      ]
     },
     "execution_count": 33,
     "metadata": {},
     "output_type": "execute_result"
    }
   ],
   "source": [
    "os.path.relpath(\"C:\\\\Users\\\\Siddhant\\\\Desktop\", \"C:\\\\Users\") # here both the starting point and the path must be absolute"
   ]
  },
  {
   "cell_type": "code",
   "execution_count": 34,
   "metadata": {},
   "outputs": [
    {
     "data": {
      "text/plain": [
       "'..\\\\..\\\\..\\\\..\\\\..\\\\..'"
      ]
     },
     "execution_count": 34,
     "metadata": {},
     "output_type": "execute_result"
    }
   ],
   "source": [
    "os.path.relpath(\"C:\\\\Users\\\\Siddhant\\\\Desktop\")"
   ]
  },
  {
   "cell_type": "markdown",
   "metadata": {},
   "source": [
    "## Parts of a file path"
   ]
  },
  {
   "cell_type": "code",
   "execution_count": 37,
   "metadata": {},
   "outputs": [],
   "source": [
    "p = Path(\"C:\\\\Users\\\\Siddhant\\\\Desktop\\\\Sid\\\\Games\\\\NFS\\\\Project_BitSid\\\\autoPy\")"
   ]
  },
  {
   "cell_type": "code",
   "execution_count": 38,
   "metadata": {},
   "outputs": [
    {
     "data": {
      "text/plain": [
       "'C:\\\\'"
      ]
     },
     "execution_count": 38,
     "metadata": {},
     "output_type": "execute_result"
    }
   ],
   "source": [
    "p.anchor"
   ]
  },
  {
   "cell_type": "code",
   "execution_count": 39,
   "metadata": {},
   "outputs": [
    {
     "data": {
      "text/plain": [
       "WindowsPath('C:/Users/Siddhant/Desktop/Sid/Games/NFS/Project_BitSid')"
      ]
     },
     "execution_count": 39,
     "metadata": {},
     "output_type": "execute_result"
    }
   ],
   "source": [
    "p.parent"
   ]
  },
  {
   "cell_type": "code",
   "execution_count": 40,
   "metadata": {},
   "outputs": [
    {
     "data": {
      "text/plain": [
       "'autoPy'"
      ]
     },
     "execution_count": 40,
     "metadata": {},
     "output_type": "execute_result"
    }
   ],
   "source": [
    "p.name"
   ]
  },
  {
   "cell_type": "code",
   "execution_count": 41,
   "metadata": {},
   "outputs": [
    {
     "data": {
      "text/plain": [
       "'autoPy'"
      ]
     },
     "execution_count": 41,
     "metadata": {},
     "output_type": "execute_result"
    }
   ],
   "source": [
    "p.stem"
   ]
  },
  {
   "cell_type": "code",
   "execution_count": 42,
   "metadata": {},
   "outputs": [
    {
     "data": {
      "text/plain": [
       "''"
      ]
     },
     "execution_count": 42,
     "metadata": {},
     "output_type": "execute_result"
    }
   ],
   "source": [
    "p.suffix"
   ]
  },
  {
   "cell_type": "code",
   "execution_count": 43,
   "metadata": {},
   "outputs": [
    {
     "data": {
      "text/plain": [
       "'C:'"
      ]
     },
     "execution_count": 43,
     "metadata": {},
     "output_type": "execute_result"
    }
   ],
   "source": [
    "p.drive"
   ]
  },
  {
   "cell_type": "code",
   "execution_count": 44,
   "metadata": {},
   "outputs": [
    {
     "data": {
      "text/plain": [
       "WindowsPath('C:/Users/Siddhant/Desktop/Sid/Games/NFS/Project_BitSid/autoPy/FilePy')"
      ]
     },
     "execution_count": 44,
     "metadata": {},
     "output_type": "execute_result"
    }
   ],
   "source": [
    "Path.cwd()"
   ]
  },
  {
   "cell_type": "code",
   "execution_count": 45,
   "metadata": {},
   "outputs": [
    {
     "data": {
      "text/plain": [
       "WindowsPath('C:/Users/Siddhant/Desktop/Sid/Games/NFS/Project_BitSid/autoPy')"
      ]
     },
     "execution_count": 45,
     "metadata": {},
     "output_type": "execute_result"
    }
   ],
   "source": [
    "Path.cwd().parents[0]"
   ]
  },
  {
   "cell_type": "code",
   "execution_count": 46,
   "metadata": {},
   "outputs": [
    {
     "data": {
      "text/plain": [
       "WindowsPath('C:/Users/Siddhant/Desktop/Sid/Games/NFS/Project_BitSid')"
      ]
     },
     "execution_count": 46,
     "metadata": {},
     "output_type": "execute_result"
    }
   ],
   "source": [
    "Path.cwd().parents[1]"
   ]
  },
  {
   "cell_type": "code",
   "execution_count": 47,
   "metadata": {},
   "outputs": [
    {
     "data": {
      "text/plain": [
       "WindowsPath('C:/Users/Siddhant/Desktop/Sid/Games/NFS')"
      ]
     },
     "execution_count": 47,
     "metadata": {},
     "output_type": "execute_result"
    }
   ],
   "source": [
    "Path.cwd().parents[2]"
   ]
  },
  {
   "cell_type": "code",
   "execution_count": 48,
   "metadata": {},
   "outputs": [
    {
     "data": {
      "text/plain": [
       "WindowsPath('C:/Users/Siddhant/Desktop/Sid/Games')"
      ]
     },
     "execution_count": 48,
     "metadata": {},
     "output_type": "execute_result"
    }
   ],
   "source": [
    "Path.cwd().parents[3]"
   ]
  },
  {
   "cell_type": "code",
   "execution_count": 1,
   "metadata": {},
   "outputs": [
    {
     "data": {
      "text/plain": [
       "'NFS'"
      ]
     },
     "execution_count": 1,
     "metadata": {},
     "output_type": "execute_result"
    }
   ],
   "source": [
    "import os.path\n",
    "calcFile = 'C:\\\\Users\\\\Desktop\\\\Sid\\\\Games\\\\NFS'\n",
    "os.path.basename(calcFile)        # base file name is returned"
   ]
  },
  {
   "cell_type": "code",
   "execution_count": 2,
   "metadata": {},
   "outputs": [
    {
     "data": {
      "text/plain": [
       "'C:\\\\Users\\\\Desktop\\\\Sid\\\\Games'"
      ]
     },
     "execution_count": 2,
     "metadata": {},
     "output_type": "execute_result"
    }
   ],
   "source": [
    "os.path.dirname(calcFile)         # directory name is given"
   ]
  },
  {
   "cell_type": "code",
   "execution_count": 4,
   "metadata": {},
   "outputs": [
    {
     "data": {
      "text/plain": [
       "('C:\\\\Users\\\\Desktop\\\\Sid\\\\Games', 'NFS')"
      ]
     },
     "execution_count": 4,
     "metadata": {},
     "output_type": "execute_result"
    }
   ],
   "source": [
    "os.path.split(calcFile)           # base file name and directory name are given"
   ]
  },
  {
   "cell_type": "markdown",
   "metadata": {},
   "source": [
    "## Finding File Sizes and Folder Contents"
   ]
  },
  {
   "cell_type": "code",
   "execution_count": 14,
   "metadata": {},
   "outputs": [
    {
     "data": {
      "text/plain": [
       "4096"
      ]
     },
     "execution_count": 14,
     "metadata": {},
     "output_type": "execute_result"
    }
   ],
   "source": [
    "import os\n",
    "path = \"C:\\\\Users\\\\Siddhant\\\\Desktop\\\\Sid\"\n",
    "os.path.getsize(path)"
   ]
  },
  {
   "cell_type": "code",
   "execution_count": 19,
   "metadata": {},
   "outputs": [
    {
     "name": "stdout",
     "output_type": "stream",
     "text": [
      "['Course 101', 'Course 102', 'desktop.ini', 'Files and Docs', 'Games', 'LhL', 'Movies']\n"
     ]
    }
   ],
   "source": [
    "xfile = os.listdir(path)\n",
    "print(xfile)"
   ]
  },
  {
   "cell_type": "code",
   "execution_count": 22,
   "metadata": {},
   "outputs": [
    {
     "name": "stdout",
     "output_type": "stream",
     "text": [
      "Course 101:4096\n",
      "Course 102:4096\n",
      "desktop.ini:154\n",
      "Files and Docs:4096\n",
      "Games:4096\n",
      "LhL:8192\n",
      "Movies:0\n"
     ]
    }
   ],
   "source": [
    "#Confirm the total size of the Sid Directory\n",
    "\n",
    "for i in range(len(xfile)) :\n",
    "    y = 0\n",
    "    y += os.path.getsize(os.path.join(path,xfile[i]))\n",
    "    print(xfile[i] + \":\" + str(y))"
   ]
  },
  {
   "cell_type": "code",
   "execution_count": 23,
   "metadata": {},
   "outputs": [
    {
     "data": {
      "text/plain": [
       "28672"
      ]
     },
     "execution_count": 23,
     "metadata": {},
     "output_type": "execute_result"
    }
   ],
   "source": [
    "path = \"C:\\\\Users\\\\Siddhant\"\n",
    "os.path.getsize(path)"
   ]
  },
  {
   "cell_type": "markdown",
   "metadata": {},
   "source": [
    "## Modifying a list of files using the Glob patterns"
   ]
  },
  {
   "cell_type": "code",
   "execution_count": 25,
   "metadata": {},
   "outputs": [],
   "source": [
    "from pathlib import Path\n",
    "p = Path('C:\\\\Users\\\\Siddhant\\\\Desktop\\\\Sid\\\\Games\\\\NFS\\\\Project_BitSid\\\\Books\\\\Data Science')"
   ]
  },
  {
   "cell_type": "code",
   "execution_count": 27,
   "metadata": {},
   "outputs": [
    {
     "data": {
      "text/plain": [
       "<generator object Path.glob at 0x000002972878EC48>"
      ]
     },
     "execution_count": 27,
     "metadata": {},
     "output_type": "execute_result"
    }
   ],
   "source": [
    "p.glob('*')"
   ]
  },
  {
   "cell_type": "code",
   "execution_count": 28,
   "metadata": {},
   "outputs": [
    {
     "data": {
      "text/plain": [
       "[WindowsPath('C:/Users/Siddhant/Desktop/Sid/Games/NFS/Project_BitSid/Books/Data Science/Data Mining, Concepts and Techniques.pdf'),\n",
       " WindowsPath('C:/Users/Siddhant/Desktop/Sid/Games/NFS/Project_BitSid/Books/Data Science/Data Science and Big Data Analytics.pdf'),\n",
       " WindowsPath('C:/Users/Siddhant/Desktop/Sid/Games/NFS/Project_BitSid/Books/Data Science/Hands-On Machine Learning with Scikit-Learn, Keras, and TensorFlow.pdf'),\n",
       " WindowsPath('C:/Users/Siddhant/Desktop/Sid/Games/NFS/Project_BitSid/Books/Data Science/Head First Statistics.pdf'),\n",
       " WindowsPath('C:/Users/Siddhant/Desktop/Sid/Games/NFS/Project_BitSid/Books/Data Science/Intro to Machine Learning with Python.pdf'),\n",
       " WindowsPath('C:/Users/Siddhant/Desktop/Sid/Games/NFS/Project_BitSid/Books/Data Science/Machine Learning A-Z _ Hands-On Python &amp; R In Data Science'),\n",
       " WindowsPath('C:/Users/Siddhant/Desktop/Sid/Games/NFS/Project_BitSid/Books/Data Science/Naked Statistics.pdf'),\n",
       " WindowsPath('C:/Users/Siddhant/Desktop/Sid/Games/NFS/Project_BitSid/Books/Data Science/Pattern Recognition and Machine Learning.pdf'),\n",
       " WindowsPath('C:/Users/Siddhant/Desktop/Sid/Games/NFS/Project_BitSid/Books/Data Science/Practical Statistics for Data Scientists.pdf'),\n",
       " WindowsPath('C:/Users/Siddhant/Desktop/Sid/Games/NFS/Project_BitSid/Books/Data Science/Python for Data Analysis.pdf'),\n",
       " WindowsPath('C:/Users/Siddhant/Desktop/Sid/Games/NFS/Project_BitSid/Books/Data Science/Python Machine Learning by Example.pdf'),\n",
       " WindowsPath('C:/Users/Siddhant/Desktop/Sid/Games/NFS/Project_BitSid/Books/Data Science/R for Data Science.pdf'),\n",
       " WindowsPath('C:/Users/Siddhant/Desktop/Sid/Games/NFS/Project_BitSid/Books/Data Science/Thinking with Data.pdf')]"
      ]
     },
     "execution_count": 28,
     "metadata": {},
     "output_type": "execute_result"
    }
   ],
   "source": [
    "list(p.glob('*'))"
   ]
  },
  {
   "cell_type": "code",
   "execution_count": 29,
   "metadata": {},
   "outputs": [
    {
     "data": {
      "text/plain": [
       "[WindowsPath('C:/Users/Siddhant/Desktop/Sid/Games/NFS/Project_BitSid/Books/Data Science/Data Mining, Concepts and Techniques.pdf'),\n",
       " WindowsPath('C:/Users/Siddhant/Desktop/Sid/Games/NFS/Project_BitSid/Books/Data Science/Data Science and Big Data Analytics.pdf'),\n",
       " WindowsPath('C:/Users/Siddhant/Desktop/Sid/Games/NFS/Project_BitSid/Books/Data Science/Hands-On Machine Learning with Scikit-Learn, Keras, and TensorFlow.pdf'),\n",
       " WindowsPath('C:/Users/Siddhant/Desktop/Sid/Games/NFS/Project_BitSid/Books/Data Science/Head First Statistics.pdf'),\n",
       " WindowsPath('C:/Users/Siddhant/Desktop/Sid/Games/NFS/Project_BitSid/Books/Data Science/Intro to Machine Learning with Python.pdf'),\n",
       " WindowsPath('C:/Users/Siddhant/Desktop/Sid/Games/NFS/Project_BitSid/Books/Data Science/Naked Statistics.pdf'),\n",
       " WindowsPath('C:/Users/Siddhant/Desktop/Sid/Games/NFS/Project_BitSid/Books/Data Science/Pattern Recognition and Machine Learning.pdf'),\n",
       " WindowsPath('C:/Users/Siddhant/Desktop/Sid/Games/NFS/Project_BitSid/Books/Data Science/Practical Statistics for Data Scientists.pdf'),\n",
       " WindowsPath('C:/Users/Siddhant/Desktop/Sid/Games/NFS/Project_BitSid/Books/Data Science/Python for Data Analysis.pdf'),\n",
       " WindowsPath('C:/Users/Siddhant/Desktop/Sid/Games/NFS/Project_BitSid/Books/Data Science/Python Machine Learning by Example.pdf'),\n",
       " WindowsPath('C:/Users/Siddhant/Desktop/Sid/Games/NFS/Project_BitSid/Books/Data Science/R for Data Science.pdf'),\n",
       " WindowsPath('C:/Users/Siddhant/Desktop/Sid/Games/NFS/Project_BitSid/Books/Data Science/Thinking with Data.pdf')]"
      ]
     },
     "execution_count": 29,
     "metadata": {},
     "output_type": "execute_result"
    }
   ],
   "source": [
    "list(p.glob('*.pdf'))"
   ]
  },
  {
   "cell_type": "code",
   "execution_count": 31,
   "metadata": {},
   "outputs": [
    {
     "data": {
      "text/plain": [
       "[WindowsPath('C:/Users/Siddhant/Desktop/Sid/Games/NFS/Project_BitSid/Books/Data Science'),\n",
       " WindowsPath('C:/Users/Siddhant/Desktop/Sid/Games/NFS/Project_BitSid/Books/defnen'),\n",
       " WindowsPath('C:/Users/Siddhant/Desktop/Sid/Games/NFS/Project_BitSid/Books/Developing'),\n",
       " WindowsPath('C:/Users/Siddhant/Desktop/Sid/Games/NFS/Project_BitSid/Books/prog-skill-matrix.png')]"
      ]
     },
     "execution_count": 31,
     "metadata": {},
     "output_type": "execute_result"
    }
   ],
   "source": [
    "x = Path('C:\\\\Users\\\\Siddhant\\\\Desktop\\\\Sid\\\\Games\\\\NFS\\\\Project_BitSid\\\\Books')\n",
    "list(x.glob('*'))"
   ]
  },
  {
   "cell_type": "code",
   "execution_count": 33,
   "metadata": {},
   "outputs": [
    {
     "data": {
      "text/plain": [
       "1"
      ]
     },
     "execution_count": 33,
     "metadata": {},
     "output_type": "execute_result"
    }
   ],
   "source": [
    "len(list(x.glob('*.png'))) # Number of images in the file"
   ]
  },
  {
   "cell_type": "code",
   "execution_count": 36,
   "metadata": {},
   "outputs": [],
   "source": [
    "pathImg = Path('C:\\\\Users\\\\Siddhant\\\\Desktop\\\\portfolio\\\\imggallery\\\\images')"
   ]
  },
  {
   "cell_type": "code",
   "execution_count": 42,
   "metadata": {},
   "outputs": [],
   "source": [
    "one = list(pathImg.glob('img?.jpg'))"
   ]
  },
  {
   "cell_type": "code",
   "execution_count": 41,
   "metadata": {},
   "outputs": [],
   "source": [
    "two = list(pathImg.glob('img??.jpg'))"
   ]
  },
  {
   "cell_type": "code",
   "execution_count": 44,
   "metadata": {},
   "outputs": [
    {
     "name": "stdout",
     "output_type": "stream",
     "text": [
      "[WindowsPath('C:/Users/Siddhant/Desktop/portfolio/imggallery/images/img1.jpg'), WindowsPath('C:/Users/Siddhant/Desktop/portfolio/imggallery/images/img2.jpg'), WindowsPath('C:/Users/Siddhant/Desktop/portfolio/imggallery/images/img3.jpg'), WindowsPath('C:/Users/Siddhant/Desktop/portfolio/imggallery/images/img4.jpg'), WindowsPath('C:/Users/Siddhant/Desktop/portfolio/imggallery/images/img5.jpg'), WindowsPath('C:/Users/Siddhant/Desktop/portfolio/imggallery/images/img6.jpg'), WindowsPath('C:/Users/Siddhant/Desktop/portfolio/imggallery/images/img7.jpg'), WindowsPath('C:/Users/Siddhant/Desktop/portfolio/imggallery/images/img8.jpg'), WindowsPath('C:/Users/Siddhant/Desktop/portfolio/imggallery/images/img9.jpg'), WindowsPath('C:/Users/Siddhant/Desktop/portfolio/imggallery/images/imgx.jpg'), WindowsPath('C:/Users/Siddhant/Desktop/portfolio/imggallery/images/imgy.jpg'), WindowsPath('C:/Users/Siddhant/Desktop/portfolio/imggallery/images/img10.jpg'), WindowsPath('C:/Users/Siddhant/Desktop/portfolio/imggallery/images/img11.jpg'), WindowsPath('C:/Users/Siddhant/Desktop/portfolio/imggallery/images/img12.jpg'), WindowsPath('C:/Users/Siddhant/Desktop/portfolio/imggallery/images/img13.jpg'), WindowsPath('C:/Users/Siddhant/Desktop/portfolio/imggallery/images/img14.jpg'), WindowsPath('C:/Users/Siddhant/Desktop/portfolio/imggallery/images/img15.jpg'), WindowsPath('C:/Users/Siddhant/Desktop/portfolio/imggallery/images/img16.jpg'), WindowsPath('C:/Users/Siddhant/Desktop/portfolio/imggallery/images/img17.jpg'), WindowsPath('C:/Users/Siddhant/Desktop/portfolio/imggallery/images/img18.jpg'), WindowsPath('C:/Users/Siddhant/Desktop/portfolio/imggallery/images/img19.jpg'), WindowsPath('C:/Users/Siddhant/Desktop/portfolio/imggallery/images/img20.jpg'), WindowsPath('C:/Users/Siddhant/Desktop/portfolio/imggallery/images/img21.jpg')]\n"
     ]
    }
   ],
   "source": [
    "print(one + two)"
   ]
  },
  {
   "cell_type": "code",
   "execution_count": 49,
   "metadata": {},
   "outputs": [
    {
     "name": "stdout",
     "output_type": "stream",
     "text": [
      "[WindowsPath('C:/Users/Siddhant/Desktop/portfolio/imggallery/images/img1.jpg'), WindowsPath('C:/Users/Siddhant/Desktop/portfolio/imggallery/images/img10.jpg'), WindowsPath('C:/Users/Siddhant/Desktop/portfolio/imggallery/images/img11.jpg'), WindowsPath('C:/Users/Siddhant/Desktop/portfolio/imggallery/images/img12.jpg'), WindowsPath('C:/Users/Siddhant/Desktop/portfolio/imggallery/images/img13.jpg'), WindowsPath('C:/Users/Siddhant/Desktop/portfolio/imggallery/images/img14.jpg'), WindowsPath('C:/Users/Siddhant/Desktop/portfolio/imggallery/images/img15.jpg'), WindowsPath('C:/Users/Siddhant/Desktop/portfolio/imggallery/images/img16.jpg'), WindowsPath('C:/Users/Siddhant/Desktop/portfolio/imggallery/images/img17.jpg'), WindowsPath('C:/Users/Siddhant/Desktop/portfolio/imggallery/images/img18.jpg'), WindowsPath('C:/Users/Siddhant/Desktop/portfolio/imggallery/images/img19.jpg'), WindowsPath('C:/Users/Siddhant/Desktop/portfolio/imggallery/images/img2.jpg'), WindowsPath('C:/Users/Siddhant/Desktop/portfolio/imggallery/images/img20.jpg'), WindowsPath('C:/Users/Siddhant/Desktop/portfolio/imggallery/images/img21.jpg'), WindowsPath('C:/Users/Siddhant/Desktop/portfolio/imggallery/images/img3.jpg'), WindowsPath('C:/Users/Siddhant/Desktop/portfolio/imggallery/images/img4.jpg'), WindowsPath('C:/Users/Siddhant/Desktop/portfolio/imggallery/images/img5.jpg'), WindowsPath('C:/Users/Siddhant/Desktop/portfolio/imggallery/images/img6.jpg'), WindowsPath('C:/Users/Siddhant/Desktop/portfolio/imggallery/images/img7.jpg'), WindowsPath('C:/Users/Siddhant/Desktop/portfolio/imggallery/images/img8.jpg'), WindowsPath('C:/Users/Siddhant/Desktop/portfolio/imggallery/images/img9.jpg'), WindowsPath('C:/Users/Siddhant/Desktop/portfolio/imggallery/images/imgx.jpg'), WindowsPath('C:/Users/Siddhant/Desktop/portfolio/imggallery/images/imgy.jpg')]\n"
     ]
    }
   ],
   "source": [
    "oneTwo = list(pathImg.glob('img*.jpg'))\n",
    "print(oneTwo)\n"
   ]
  },
  {
   "cell_type": "code",
   "execution_count": 51,
   "metadata": {},
   "outputs": [
    {
     "data": {
      "text/plain": [
       "True"
      ]
     },
     "execution_count": 51,
     "metadata": {},
     "output_type": "execute_result"
    }
   ],
   "source": [
    "len(oneTwo) == len(one + two)"
   ]
  },
  {
   "cell_type": "markdown",
   "metadata": {},
   "source": [
    "Hence proved, that .glob('img\\*.jpg') = .glob('\\*.jpg')"
   ]
  },
  {
   "cell_type": "markdown",
   "metadata": {},
   "source": [
    "## Checking Path Validity"
   ]
  },
  {
   "cell_type": "code",
   "execution_count": 52,
   "metadata": {},
   "outputs": [
    {
     "data": {
      "text/plain": [
       "True"
      ]
     },
     "execution_count": 52,
     "metadata": {},
     "output_type": "execute_result"
    }
   ],
   "source": [
    "p = Path('C:\\\\Users\\\\Siddhant\\\\Desktop')\n",
    "p.exists()"
   ]
  },
  {
   "cell_type": "code",
   "execution_count": 53,
   "metadata": {},
   "outputs": [
    {
     "data": {
      "text/plain": [
       "False"
      ]
     },
     "execution_count": 53,
     "metadata": {},
     "output_type": "execute_result"
    }
   ],
   "source": [
    "p.is_file()  # return True if path exists and path leads to a file"
   ]
  },
  {
   "cell_type": "code",
   "execution_count": 55,
   "metadata": {},
   "outputs": [
    {
     "data": {
      "text/plain": [
       "True"
      ]
     },
     "execution_count": 55,
     "metadata": {},
     "output_type": "execute_result"
    }
   ],
   "source": [
    "p.is_dir()   # return True if path exists and path leads to a directory"
   ]
  },
  {
   "cell_type": "markdown",
   "metadata": {},
   "source": [
    "## Saving Variables with the shelve module"
   ]
  },
  {
   "cell_type": "code",
   "execution_count": 67,
   "metadata": {},
   "outputs": [],
   "source": [
    "fileContent = open('C:\\\\Users\\\\Siddhant\\\\Desktop\\\\pyText.txt', 'w')\n",
    "fileContent.write(\"Ring-a-Ring-a-Roses!\\nPocket full of lies\\nEvil reigns the world!\")\n",
    "fileContent.close()"
   ]
  },
  {
   "cell_type": "code",
   "execution_count": 68,
   "metadata": {},
   "outputs": [],
   "source": [
    "fileRead = open('C:\\\\Users\\\\Siddhant\\\\Desktop\\\\pyText.txt')\n",
    "xyz = fileRead.read()\n",
    "fileRead.close()"
   ]
  },
  {
   "cell_type": "code",
   "execution_count": 69,
   "metadata": {},
   "outputs": [
    {
     "name": "stdout",
     "output_type": "stream",
     "text": [
      "Ring-a-Ring-a-Roses!\n",
      "Pocket full of lies\n",
      "Evil reigns the world!\n"
     ]
    }
   ],
   "source": [
    "print(xyz)"
   ]
  },
  {
   "cell_type": "code",
   "execution_count": 70,
   "metadata": {},
   "outputs": [],
   "source": [
    "fileAdd = open('C:\\\\Users\\\\Siddhant\\\\Desktop\\\\pyText.txt', 'a') \n",
    "fileAdd.write(\"\\nThou too shalt fall to the dark beneath\\nAnd thou shalt serve the Evil Force.\")\n",
    "fileAdd.close()"
   ]
  },
  {
   "cell_type": "code",
   "execution_count": 71,
   "metadata": {},
   "outputs": [],
   "source": [
    "fileRead = open('C:\\\\Users\\\\Siddhant\\\\Desktop\\\\pyText.txt')\n",
    "abc = fileRead.read()\n",
    "fileRead.close()"
   ]
  },
  {
   "cell_type": "code",
   "execution_count": 72,
   "metadata": {},
   "outputs": [
    {
     "name": "stdout",
     "output_type": "stream",
     "text": [
      "Ring-a-Ring-a-Roses!\n",
      "Pocket full of lies\n",
      "Evil reigns the world!\n",
      "Thou too shalt fall to the dark beneath\n",
      "And thou shalt serve the Evil Force.\n"
     ]
    }
   ],
   "source": [
    "print(abc)"
   ]
  },
  {
   "cell_type": "code",
   "execution_count": 6,
   "metadata": {},
   "outputs": [],
   "source": [
    "#now, we start saving to the shelve file\n",
    "\n",
    "import shelve\n",
    "shelfFile = shelve.open('pyText.txt')\n",
    "cats = ['Zophie', 'Pooka', 'Simon']\n",
    "shelfFile['cats'] = cats\n",
    "shelfFile.close()"
   ]
  },
  {
   "cell_type": "code",
   "execution_count": 7,
   "metadata": {},
   "outputs": [
    {
     "ename": "AttributeError",
     "evalue": "'DbfilenameShelf' object has no attribute 'Keys'",
     "output_type": "error",
     "traceback": [
      "\u001b[1;31m---------------------------------------------------------------------------\u001b[0m",
      "\u001b[1;31mAttributeError\u001b[0m                            Traceback (most recent call last)",
      "\u001b[1;32m<ipython-input-7-ba9475baf3eb>\u001b[0m in \u001b[0;36m<module>\u001b[1;34m\u001b[0m\n\u001b[0;32m      1\u001b[0m \u001b[0mshelfFile\u001b[0m \u001b[1;33m=\u001b[0m \u001b[0mshelve\u001b[0m\u001b[1;33m.\u001b[0m\u001b[0mopen\u001b[0m\u001b[1;33m(\u001b[0m\u001b[1;34m'pyText.txt'\u001b[0m\u001b[1;33m)\u001b[0m\u001b[1;33m\u001b[0m\u001b[1;33m\u001b[0m\u001b[0m\n\u001b[1;32m----> 2\u001b[1;33m \u001b[0mlist\u001b[0m\u001b[1;33m(\u001b[0m\u001b[0mshelfFile\u001b[0m\u001b[1;33m.\u001b[0m\u001b[0mKeys\u001b[0m\u001b[1;33m(\u001b[0m\u001b[1;33m)\u001b[0m\u001b[1;33m)\u001b[0m\u001b[1;33m\u001b[0m\u001b[1;33m\u001b[0m\u001b[0m\n\u001b[0m\u001b[0;32m      3\u001b[0m \u001b[0mlist\u001b[0m\u001b[1;33m(\u001b[0m\u001b[0mshelfFile\u001b[0m\u001b[1;33m.\u001b[0m\u001b[0mvalues\u001b[0m\u001b[1;33m(\u001b[0m\u001b[1;33m)\u001b[0m\u001b[1;33m)\u001b[0m\u001b[1;33m\u001b[0m\u001b[1;33m\u001b[0m\u001b[0m\n",
      "\u001b[1;31mAttributeError\u001b[0m: 'DbfilenameShelf' object has no attribute 'Keys'"
     ]
    }
   ],
   "source": [
    "shelfFile = shelve.open('pyText.txt')\n",
    "list(shelfFile.Keys())\n",
    "list(shelfFile.values())"
   ]
  },
  {
   "cell_type": "code",
   "execution_count": null,
   "metadata": {},
   "outputs": [],
   "source": []
  }
 ],
 "metadata": {
  "kernelspec": {
   "display_name": "Python 3",
   "language": "python",
   "name": "python3"
  },
  "language_info": {
   "codemirror_mode": {
    "name": "ipython",
    "version": 3
   },
   "file_extension": ".py",
   "mimetype": "text/x-python",
   "name": "python",
   "nbconvert_exporter": "python",
   "pygments_lexer": "ipython3",
   "version": "3.7.4"
  }
 },
 "nbformat": 4,
 "nbformat_minor": 2
}
