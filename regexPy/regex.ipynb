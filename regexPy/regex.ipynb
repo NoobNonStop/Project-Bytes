{
 "cells": [
  {
   "cell_type": "markdown",
   "metadata": {},
   "source": [
    "**Regex**"
   ]
  },
  {
   "cell_type": "markdown",
   "metadata": {},
   "source": [
    "Regex or Regular Expressions are descriptions for a pattern of text.\n",
    "In a regex, \\d represents a digit."
   ]
  },
  {
   "cell_type": "code",
   "execution_count": 6,
   "metadata": {},
   "outputs": [
    {
     "output_type": "execute_result",
     "data": {
      "text/plain": "'9968273908'"
     },
     "metadata": {},
     "execution_count": 6
    }
   ],
   "source": [
    "import re\n",
    "phoneNumRegex = re.compile(r'\\d\\d\\d\\d\\d\\d\\d\\d\\d\\d') #matching the indian phone-number patterns\n",
    "mo = phoneNumRegex.search(\"Go to Hell! I don't wanna talk to you! Call me at 9968273908 if you wish to apologize.\")\n",
    "mo.group()\n"
   ]
  },
  {
   "cell_type": "markdown",
   "metadata": {},
   "source": [
    "In the above example, we use the .compile() function to let the computer know the pattern. The phoneNumberRegex becomes a Regex Pattern  object, and then the .search() function searches through it toreturn the value to the variable mo. After that, the .group function return the value: if found, return the string matching the pattern, and if not return None."
   ]
  },
  {
   "cell_type": "markdown",
   "metadata": {},
   "source": [
    "To match two or more different parts of a pattern, we use the brackets. Encapsulate different parts of the pattern in different patterns."
   ]
  },
  {
   "cell_type": "code",
   "execution_count": 13,
   "metadata": {
    "tags": []
   },
   "outputs": [
    {
     "output_type": "execute_result",
     "data": {
      "text/plain": "'+91'"
     },
     "metadata": {},
     "execution_count": 13
    }
   ],
   "source": [
    "phoneNumRegex = re.compile(r'(\\+91)-\\d\\d\\d\\d\\d\\d\\d\\d\\d\\d') \n",
    "mo = phoneNumRegex.search(\"I am Siddhant. My phone number is: +91-9938487843. My friend's phone number: 9938264528 and another friend's number: 983920393\")\n",
    "mo.group(1)"
   ]
  },
  {
   "cell_type": "code",
   "execution_count": 14,
   "metadata": {},
   "outputs": [
    {
     "output_type": "execute_result",
     "data": {
      "text/plain": "'+91-9938487843'"
     },
     "metadata": {},
     "execution_count": 14
    }
   ],
   "source": [
    "mo.group()"
   ]
  },
  {
   "cell_type": "markdown",
   "metadata": {},
   "source": [
    "Here, the '1' and '2'are similar to indexes, though these start from 1:"
   ]
  },
  {
   "cell_type": "code",
   "execution_count": 22,
   "metadata": {},
   "outputs": [
    {
     "output_type": "execute_result",
     "data": {
      "text/plain": "'+91'"
     },
     "metadata": {},
     "execution_count": 22
    }
   ],
   "source": [
    "xRegex = re.compile(r'(\\+91)-(\\d\\d\\d\\d\\d)(\\d\\d\\d\\d\\d)')\n",
    "mo = xRegex.search(\"Kill Bill, then call the number: +91-9318467022.\")\n",
    "mo.group(1)"
   ]
  },
  {
   "cell_type": "code",
   "execution_count": 24,
   "metadata": {},
   "outputs": [
    {
     "output_type": "execute_result",
     "data": {
      "text/plain": "'67022'"
     },
     "metadata": {},
     "execution_count": 24
    }
   ],
   "source": [
    "mo.group(3)"
   ]
  },
  {
   "cell_type": "code",
   "execution_count": 25,
   "metadata": {},
   "outputs": [
    {
     "output_type": "execute_result",
     "data": {
      "text/plain": "'93184'"
     },
     "metadata": {},
     "execution_count": 25
    }
   ],
   "source": [
    "mo.group(2)"
   ]
  },
  {
   "cell_type": "code",
   "execution_count": 26,
   "metadata": {},
   "outputs": [
    {
     "output_type": "execute_result",
     "data": {
      "text/plain": "'+91-9318467022'"
     },
     "metadata": {},
     "execution_count": 26
    }
   ],
   "source": [
    "mo.group()"
   ]
  },
  {
   "cell_type": "code",
   "execution_count": 29,
   "metadata": {
    "tags": []
   },
   "outputs": [
    {
     "output_type": "stream",
     "name": "stdout",
     "text": "+91\n93184\n67022\n"
    }
   ],
   "source": [
    "x,y,z = mo.groups() #Unpacking and assignment\n",
    "print(x)\n",
    "print(y)\n",
    "print(z)\n"
   ]
  },
  {
   "cell_type": "markdown",
   "metadata": {},
   "source": [
    "**Matching Multiple Groups with the Pipe** : \n",
    "The | character -> known as Pipe\n",
    "Used if one or more statement is to be matched at once."
   ]
  },
  {
   "cell_type": "code",
   "execution_count": 32,
   "metadata": {},
   "outputs": [
    {
     "output_type": "execute_result",
     "data": {
      "text/plain": "'Batman'"
     },
     "metadata": {},
     "execution_count": 32
    }
   ],
   "source": [
    "heroRegex = re.compile(r'(Bat|Super|Iron|Ant|Spider)man')\n",
    "mo = heroRegex.search(\"Iron-Man killed Batman, but in turn was slain by Superman.\")\n",
    "mo.group()\n"
   ]
  },
  {
   "cell_type": "markdown",
   "metadata": {},
   "source": [
    "**Optional Matching** : The ()? function"
   ]
  },
  {
   "cell_type": "code",
   "execution_count": 36,
   "metadata": {},
   "outputs": [
    {
     "output_type": "execute_result",
     "data": {
      "text/plain": "'Batwoman'"
     },
     "metadata": {},
     "execution_count": 36
    }
   ],
   "source": [
    "batRegex = re.compile(r'Bat(wo)?man')\n",
    "mo = batRegex.search(\"Batwoman is an imposter, turns out Batman's hunting her.\")\n",
    "mo.group()"
   ]
  },
  {
   "cell_type": "code",
   "execution_count": 37,
   "metadata": {},
   "outputs": [
    {
     "output_type": "execute_result",
     "data": {
      "text/plain": "'Batman'"
     },
     "metadata": {},
     "execution_count": 37
    }
   ],
   "source": [
    "xo = batRegex.search(\"Batman hunted down, killed.\")\n",
    "xo.group()"
   ]
  },
  {
   "cell_type": "markdown",
   "metadata": {},
   "source": [
    "**Matching x or more with chars **  : If x = 0, * is used"
   ]
  },
  {
   "cell_type": "code",
   "execution_count": 39,
   "metadata": {},
   "outputs": [
    {
     "output_type": "execute_result",
     "data": {
      "text/plain": "'Batwoman'"
     },
     "metadata": {},
     "execution_count": 39
    }
   ],
   "source": [
    "gunRegex = re.compile(r'Bat(wo)*man')\n",
    "mo = gunRegex.search(\"Batman is a bad guy!\")\n",
    "no = gunRegex.search(\"Batwowowoman is a good person!\")\n",
    "lo = gunRegex.search(\"Batwoman is not justice!\")\n",
    "mo.group()\n"
   ]
  },
  {
   "cell_type": "code",
   "execution_count": 40,
   "metadata": {},
   "outputs": [
    {
     "output_type": "execute_result",
     "data": {
      "text/plain": "'Batwowowoman'"
     },
     "metadata": {},
     "execution_count": 40
    }
   ],
   "source": [
    "no.group()\n"
   ]
  },
  {
   "cell_type": "code",
   "execution_count": 41,
   "metadata": {},
   "outputs": [
    {
     "output_type": "execute_result",
     "data": {
      "text/plain": "'Batwoman'"
     },
     "metadata": {},
     "execution_count": 41
    }
   ],
   "source": [
    "lo.group()"
   ]
  },
  {
   "cell_type": "markdown",
   "metadata": {},
   "source": [
    "If x = 1, use + "
   ]
  },
  {
   "cell_type": "code",
   "execution_count": 43,
   "metadata": {},
   "outputs": [
    {
     "output_type": "execute_result",
     "data": {
      "text/plain": "True"
     },
     "metadata": {},
     "execution_count": 43
    }
   ],
   "source": [
    "gunRegex = re.compile(r'Bat(wo)+man')\n",
    "mo = gunRegex.search(\"Batman is a bad guy!\")\n",
    "no = gunRegex.search(\"Batwowowoman is a good person!\")\n",
    "lo = gunRegex.search(\"Batwoman is not justice!\")\n",
    "mo == None"
   ]
  },
  {
   "cell_type": "code",
   "execution_count": 44,
   "metadata": {},
   "outputs": [
    {
     "output_type": "execute_result",
     "data": {
      "text/plain": "'Batwowowoman'"
     },
     "metadata": {},
     "execution_count": 44
    }
   ],
   "source": [
    "no.group()"
   ]
  },
  {
   "cell_type": "code",
   "execution_count": 45,
   "metadata": {},
   "outputs": [
    {
     "output_type": "execute_result",
     "data": {
      "text/plain": "'Batwoman'"
     },
     "metadata": {},
     "execution_count": 45
    }
   ],
   "source": [
    "lo.group()"
   ]
  },
  {
   "cell_type": "code",
   "execution_count": 47,
   "metadata": {},
   "outputs": [
    {
     "output_type": "execute_result",
     "data": {
      "text/plain": "True"
     },
     "metadata": {},
     "execution_count": 47
    }
   ],
   "source": [
    "gunRegex = re.compile(r'Bat(wo){3}man')\n",
    "mo = gunRegex.search(\"Batman is a bad guy!\")\n",
    "no = gunRegex.search(\"Batwowowoman is a good person!\")\n",
    "lo = gunRegex.search(\"Batwoman is not justice!\")\n",
    "mo == None"
   ]
  },
  {
   "cell_type": "code",
   "execution_count": 48,
   "metadata": {},
   "outputs": [
    {
     "output_type": "execute_result",
     "data": {
      "text/plain": "'Batwowowoman'"
     },
     "metadata": {},
     "execution_count": 48
    }
   ],
   "source": [
    "no.group()"
   ]
  },
  {
   "cell_type": "code",
   "execution_count": 49,
   "metadata": {},
   "outputs": [
    {
     "output_type": "execute_result",
     "data": {
      "text/plain": "True"
     },
     "metadata": {},
     "execution_count": 49
    }
   ],
   "source": [
    "lo == None"
   ]
  },
  {
   "cell_type": "code",
   "execution_count": null,
   "metadata": {},
   "outputs": [],
   "source": []
  }
 ],
 "metadata": {
  "language_info": {
   "codemirror_mode": {
    "name": "ipython",
    "version": 3
   },
   "file_extension": ".py",
   "mimetype": "text/x-python",
   "name": "python",
   "nbconvert_exporter": "python",
   "pygments_lexer": "ipython3",
   "version": 3
  },
  "orig_nbformat": 2,
  "kernelspec": {
   "name": "python_defaultSpec_1594728638552",
   "display_name": "Python 3.7.4 64-bit ('base': conda)"
  }
 },
 "nbformat": 4,
 "nbformat_minor": 2
}